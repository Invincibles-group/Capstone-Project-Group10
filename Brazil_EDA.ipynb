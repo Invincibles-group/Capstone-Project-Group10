{
 "cells": [
  {
   "cell_type": "code",
   "execution_count": 16,
   "id": "a0493bde",
   "metadata": {},
   "outputs": [],
   "source": [
    "import pandas as pd\n",
    "import matplotlib.pyplot as plt\n",
    "import seaborn as sns\n",
    "import scipy.stats as stats\n",
    "import warnings\n",
    "import numpy as np\n",
    "warnings.filterwarnings('ignore')\n",
    "\n",
    "# Load the data into a Pandas dataframe\n",
    "df = pd.read_csv(\"ef_brazil_cetesb_db.csv\")"
   ]
  },
  {
   "cell_type": "code",
   "execution_count": 28,
   "id": "38972301",
   "metadata": {},
   "outputs": [
    {
     "data": {
      "text/html": [
       "<div>\n",
       "<style scoped>\n",
       "    .dataframe tbody tr th:only-of-type {\n",
       "        vertical-align: middle;\n",
       "    }\n",
       "\n",
       "    .dataframe tbody tr th {\n",
       "        vertical-align: top;\n",
       "    }\n",
       "\n",
       "    .dataframe thead th {\n",
       "        text-align: right;\n",
       "    }\n",
       "</style>\n",
       "<table border=\"1\" class=\"dataframe\">\n",
       "  <thead>\n",
       "    <tr style=\"text-align: right;\">\n",
       "      <th></th>\n",
       "      <th>calendar_year</th>\n",
       "      <th>model_year</th>\n",
       "      <th>pollutant</th>\n",
       "      <th>ef</th>\n",
       "      <th>ef_plus_c</th>\n",
       "      <th>log_ef</th>\n",
       "    </tr>\n",
       "  </thead>\n",
       "  <tbody>\n",
       "    <tr>\n",
       "      <th>0</th>\n",
       "      <td>2020</td>\n",
       "      <td>2020</td>\n",
       "      <td>CH4</td>\n",
       "      <td>0.080778</td>\n",
       "      <td>1.080778</td>\n",
       "      <td>0.077681</td>\n",
       "    </tr>\n",
       "    <tr>\n",
       "      <th>1</th>\n",
       "      <td>2020</td>\n",
       "      <td>2019</td>\n",
       "      <td>CH4</td>\n",
       "      <td>0.080778</td>\n",
       "      <td>1.080778</td>\n",
       "      <td>0.077681</td>\n",
       "    </tr>\n",
       "    <tr>\n",
       "      <th>2</th>\n",
       "      <td>2020</td>\n",
       "      <td>2018</td>\n",
       "      <td>CH4</td>\n",
       "      <td>0.058193</td>\n",
       "      <td>1.058193</td>\n",
       "      <td>0.056563</td>\n",
       "    </tr>\n",
       "    <tr>\n",
       "      <th>3</th>\n",
       "      <td>2020</td>\n",
       "      <td>2017</td>\n",
       "      <td>CH4</td>\n",
       "      <td>0.091306</td>\n",
       "      <td>1.091306</td>\n",
       "      <td>0.087375</td>\n",
       "    </tr>\n",
       "    <tr>\n",
       "      <th>4</th>\n",
       "      <td>2020</td>\n",
       "      <td>2016</td>\n",
       "      <td>CH4</td>\n",
       "      <td>0.075578</td>\n",
       "      <td>1.075578</td>\n",
       "      <td>0.072858</td>\n",
       "    </tr>\n",
       "  </tbody>\n",
       "</table>\n",
       "</div>"
      ],
      "text/plain": [
       "   calendar_year  model_year pollutant        ef  ef_plus_c    log_ef\n",
       "0           2020        2020       CH4  0.080778   1.080778  0.077681\n",
       "1           2020        2019       CH4  0.080778   1.080778  0.077681\n",
       "2           2020        2018       CH4  0.058193   1.058193  0.056563\n",
       "3           2020        2017       CH4  0.091306   1.091306  0.087375\n",
       "4           2020        2016       CH4  0.075578   1.075578  0.072858"
      ]
     },
     "execution_count": 28,
     "metadata": {},
     "output_type": "execute_result"
    }
   ],
   "source": [
    "df.head()"
   ]
  },
  {
   "cell_type": "code",
   "execution_count": 29,
   "id": "870d4044",
   "metadata": {},
   "outputs": [
    {
     "data": {
      "text/plain": [
       "(793, 6)"
      ]
     },
     "execution_count": 29,
     "metadata": {},
     "output_type": "execute_result"
    }
   ],
   "source": [
    "df.shape"
   ]
  },
  {
   "cell_type": "code",
   "execution_count": 17,
   "id": "aa21777f",
   "metadata": {},
   "outputs": [],
   "source": [
    "# Drop the columns\n",
    "df = df.drop(columns=[\"Proconve_HDV\", \"Euro_EqHDV\",\"BUS_URBAN_D\",\"BUS_MICRO_D\",\"BUS_COACH_D\",\"BUS_ARTIC_D\"])"
   ]
  },
  {
   "cell_type": "code",
   "execution_count": 18,
   "id": "09bc068b",
   "metadata": {},
   "outputs": [
    {
     "data": {
      "text/html": [
       "<div>\n",
       "<style scoped>\n",
       "    .dataframe tbody tr th:only-of-type {\n",
       "        vertical-align: middle;\n",
       "    }\n",
       "\n",
       "    .dataframe tbody tr th {\n",
       "        vertical-align: top;\n",
       "    }\n",
       "\n",
       "    .dataframe thead th {\n",
       "        text-align: right;\n",
       "    }\n",
       "</style>\n",
       "<table border=\"1\" class=\"dataframe\">\n",
       "  <thead>\n",
       "    <tr style=\"text-align: right;\">\n",
       "      <th></th>\n",
       "      <th>calendar_year</th>\n",
       "      <th>model_year</th>\n",
       "      <th>pollutant</th>\n",
       "      <th>ef</th>\n",
       "    </tr>\n",
       "  </thead>\n",
       "  <tbody>\n",
       "    <tr>\n",
       "      <th>0</th>\n",
       "      <td>2020</td>\n",
       "      <td>2020</td>\n",
       "      <td>CH4</td>\n",
       "      <td>0.080778</td>\n",
       "    </tr>\n",
       "    <tr>\n",
       "      <th>1</th>\n",
       "      <td>2020</td>\n",
       "      <td>2019</td>\n",
       "      <td>CH4</td>\n",
       "      <td>0.080778</td>\n",
       "    </tr>\n",
       "    <tr>\n",
       "      <th>2</th>\n",
       "      <td>2020</td>\n",
       "      <td>2018</td>\n",
       "      <td>CH4</td>\n",
       "      <td>0.058193</td>\n",
       "    </tr>\n",
       "    <tr>\n",
       "      <th>3</th>\n",
       "      <td>2020</td>\n",
       "      <td>2017</td>\n",
       "      <td>CH4</td>\n",
       "      <td>0.091306</td>\n",
       "    </tr>\n",
       "    <tr>\n",
       "      <th>4</th>\n",
       "      <td>2020</td>\n",
       "      <td>2016</td>\n",
       "      <td>CH4</td>\n",
       "      <td>0.075578</td>\n",
       "    </tr>\n",
       "  </tbody>\n",
       "</table>\n",
       "</div>"
      ],
      "text/plain": [
       "   calendar_year  model_year pollutant        ef\n",
       "0           2020        2020       CH4  0.080778\n",
       "1           2020        2019       CH4  0.080778\n",
       "2           2020        2018       CH4  0.058193\n",
       "3           2020        2017       CH4  0.091306\n",
       "4           2020        2016       CH4  0.075578"
      ]
     },
     "execution_count": 18,
     "metadata": {},
     "output_type": "execute_result"
    }
   ],
   "source": [
    "df.head()"
   ]
  },
  {
   "cell_type": "code",
   "execution_count": 30,
   "id": "febfb6ca",
   "metadata": {},
   "outputs": [
    {
     "data": {
      "text/html": [
       "<div>\n",
       "<style scoped>\n",
       "    .dataframe tbody tr th:only-of-type {\n",
       "        vertical-align: middle;\n",
       "    }\n",
       "\n",
       "    .dataframe tbody tr th {\n",
       "        vertical-align: top;\n",
       "    }\n",
       "\n",
       "    .dataframe thead th {\n",
       "        text-align: right;\n",
       "    }\n",
       "</style>\n",
       "<table border=\"1\" class=\"dataframe\">\n",
       "  <thead>\n",
       "    <tr style=\"text-align: right;\">\n",
       "      <th></th>\n",
       "      <th>calendar_year</th>\n",
       "      <th>model_year</th>\n",
       "      <th>ef</th>\n",
       "      <th>ef_plus_c</th>\n",
       "      <th>log_ef</th>\n",
       "    </tr>\n",
       "  </thead>\n",
       "  <tbody>\n",
       "    <tr>\n",
       "      <th>count</th>\n",
       "      <td>793.0</td>\n",
       "      <td>793.000000</td>\n",
       "      <td>793.000000</td>\n",
       "      <td>793.000000</td>\n",
       "      <td>793.000000</td>\n",
       "    </tr>\n",
       "    <tr>\n",
       "      <th>mean</th>\n",
       "      <td>2020.0</td>\n",
       "      <td>1990.000000</td>\n",
       "      <td>467.737827</td>\n",
       "      <td>468.737827</td>\n",
       "      <td>2.600074</td>\n",
       "    </tr>\n",
       "    <tr>\n",
       "      <th>std</th>\n",
       "      <td>0.0</td>\n",
       "      <td>17.617929</td>\n",
       "      <td>1231.792313</td>\n",
       "      <td>1231.792313</td>\n",
       "      <td>2.524446</td>\n",
       "    </tr>\n",
       "    <tr>\n",
       "      <th>min</th>\n",
       "      <td>2020.0</td>\n",
       "      <td>1960.000000</td>\n",
       "      <td>0.012389</td>\n",
       "      <td>1.012389</td>\n",
       "      <td>0.012313</td>\n",
       "    </tr>\n",
       "    <tr>\n",
       "      <th>25%</th>\n",
       "      <td>2020.0</td>\n",
       "      <td>1975.000000</td>\n",
       "      <td>1.354501</td>\n",
       "      <td>2.354501</td>\n",
       "      <td>0.856329</td>\n",
       "    </tr>\n",
       "    <tr>\n",
       "      <th>50%</th>\n",
       "      <td>2020.0</td>\n",
       "      <td>1990.000000</td>\n",
       "      <td>5.249332</td>\n",
       "      <td>6.249332</td>\n",
       "      <td>1.832475</td>\n",
       "    </tr>\n",
       "    <tr>\n",
       "      <th>75%</th>\n",
       "      <td>2020.0</td>\n",
       "      <td>2005.000000</td>\n",
       "      <td>45.302095</td>\n",
       "      <td>46.302095</td>\n",
       "      <td>3.835187</td>\n",
       "    </tr>\n",
       "    <tr>\n",
       "      <th>max</th>\n",
       "      <td>2020.0</td>\n",
       "      <td>2020.000000</td>\n",
       "      <td>4792.753194</td>\n",
       "      <td>4793.753194</td>\n",
       "      <td>8.475069</td>\n",
       "    </tr>\n",
       "  </tbody>\n",
       "</table>\n",
       "</div>"
      ],
      "text/plain": [
       "       calendar_year   model_year           ef    ef_plus_c      log_ef\n",
       "count          793.0   793.000000   793.000000   793.000000  793.000000\n",
       "mean          2020.0  1990.000000   467.737827   468.737827    2.600074\n",
       "std              0.0    17.617929  1231.792313  1231.792313    2.524446\n",
       "min           2020.0  1960.000000     0.012389     1.012389    0.012313\n",
       "25%           2020.0  1975.000000     1.354501     2.354501    0.856329\n",
       "50%           2020.0  1990.000000     5.249332     6.249332    1.832475\n",
       "75%           2020.0  2005.000000    45.302095    46.302095    3.835187\n",
       "max           2020.0  2020.000000  4792.753194  4793.753194    8.475069"
      ]
     },
     "execution_count": 30,
     "metadata": {},
     "output_type": "execute_result"
    }
   ],
   "source": [
    "df.describe()"
   ]
  },
  {
   "cell_type": "code",
   "execution_count": 19,
   "id": "276bb7ba",
   "metadata": {},
   "outputs": [
    {
     "data": {
      "text/html": [
       "<div>\n",
       "<style scoped>\n",
       "    .dataframe tbody tr th:only-of-type {\n",
       "        vertical-align: middle;\n",
       "    }\n",
       "\n",
       "    .dataframe tbody tr th {\n",
       "        vertical-align: top;\n",
       "    }\n",
       "\n",
       "    .dataframe thead th {\n",
       "        text-align: right;\n",
       "    }\n",
       "</style>\n",
       "<table border=\"1\" class=\"dataframe\">\n",
       "  <thead>\n",
       "    <tr style=\"text-align: right;\">\n",
       "      <th></th>\n",
       "      <th>calendar_year</th>\n",
       "      <th>model_year</th>\n",
       "      <th>pollutant</th>\n",
       "      <th>ef</th>\n",
       "      <th>ef_plus_c</th>\n",
       "      <th>log_ef</th>\n",
       "    </tr>\n",
       "  </thead>\n",
       "  <tbody>\n",
       "    <tr>\n",
       "      <th>0</th>\n",
       "      <td>2020</td>\n",
       "      <td>2020</td>\n",
       "      <td>CH4</td>\n",
       "      <td>0.080778</td>\n",
       "      <td>1.080778</td>\n",
       "      <td>0.077681</td>\n",
       "    </tr>\n",
       "    <tr>\n",
       "      <th>1</th>\n",
       "      <td>2020</td>\n",
       "      <td>2019</td>\n",
       "      <td>CH4</td>\n",
       "      <td>0.080778</td>\n",
       "      <td>1.080778</td>\n",
       "      <td>0.077681</td>\n",
       "    </tr>\n",
       "    <tr>\n",
       "      <th>2</th>\n",
       "      <td>2020</td>\n",
       "      <td>2018</td>\n",
       "      <td>CH4</td>\n",
       "      <td>0.058193</td>\n",
       "      <td>1.058193</td>\n",
       "      <td>0.056563</td>\n",
       "    </tr>\n",
       "    <tr>\n",
       "      <th>3</th>\n",
       "      <td>2020</td>\n",
       "      <td>2017</td>\n",
       "      <td>CH4</td>\n",
       "      <td>0.091306</td>\n",
       "      <td>1.091306</td>\n",
       "      <td>0.087375</td>\n",
       "    </tr>\n",
       "    <tr>\n",
       "      <th>4</th>\n",
       "      <td>2020</td>\n",
       "      <td>2016</td>\n",
       "      <td>CH4</td>\n",
       "      <td>0.075578</td>\n",
       "      <td>1.075578</td>\n",
       "      <td>0.072858</td>\n",
       "    </tr>\n",
       "  </tbody>\n",
       "</table>\n",
       "</div>"
      ],
      "text/plain": [
       "   calendar_year  model_year pollutant        ef  ef_plus_c    log_ef\n",
       "0           2020        2020       CH4  0.080778   1.080778  0.077681\n",
       "1           2020        2019       CH4  0.080778   1.080778  0.077681\n",
       "2           2020        2018       CH4  0.058193   1.058193  0.056563\n",
       "3           2020        2017       CH4  0.091306   1.091306  0.087375\n",
       "4           2020        2016       CH4  0.075578   1.075578  0.072858"
      ]
     },
     "execution_count": 19,
     "metadata": {},
     "output_type": "execute_result"
    }
   ],
   "source": [
    "c = 1\n",
    "\n",
    "# Add the constant value to the ef column\n",
    "df['ef_plus_c'] = df['ef'] + c\n",
    "\n",
    "# Apply the natural logarithm function to the ef_plus_c column\n",
    "df['log_ef'] = np.log(df['ef_plus_c'])\n",
    "df.head()"
   ]
  },
  {
   "cell_type": "code",
   "execution_count": 20,
   "id": "8387977f",
   "metadata": {},
   "outputs": [
    {
     "data": {
      "image/png": "[encoded data removed]",
      "text/plain": [
       "<Figure size 432x288 with 1 Axes>"
      ]
     },
     "metadata": {
      "needs_background": "light"
     },
     "output_type": "display_data"
    }
   ],
   "source": [
    "# Calculate average ef for each pollutant and sort by descending order\n",
    "avg_ef_by_pollutant = df.groupby('pollutant')['log_ef'].mean().sort_values(ascending=False)\n",
    "\n",
    "# Slice the top 5 pollutants\n",
    "top_pollutants = avg_ef_by_pollutant.head(5)\n",
    "\n",
    "# Create a bar plot of the top 5 average ef values\n",
    "sns.barplot(x=top_pollutants.index, y=top_pollutants.values)\n",
    "\n",
    "# Add labels and title\n",
    "plt.xlabel('Pollutant')\n",
    "plt.ylabel('Average Emission Factor')\n",
    "plt.title('Top 5 Pollutants with the Highest Average Emission Factor')\n",
    "\n",
    "# Show the plot\n",
    "plt.show()\n"
   ]
  },
  {
   "cell_type": "code",
   "execution_count": 21,
   "id": "0b157477",
   "metadata": {},
   "outputs": [
    {
     "data": {
      "image/png": "[encoded data removed]",
      "text/plain": [
       "<Figure size 432x288 with 1 Axes>"
      ]
     },
     "metadata": {
      "needs_background": "light"
     },
     "output_type": "display_data"
    }
   ],
   "source": [
    "# Distribution of model_year column\n",
    "sns.histplot(df, x=\"model_year\")\n",
    "plt.title(\"Distribution of model_year column\")\n",
    "plt.show()"
   ]
  },
  {
   "cell_type": "code",
   "execution_count": 22,
   "id": "00aebb5b",
   "metadata": {},
   "outputs": [
    {
     "data": {
      "image/png": "[encoded data removed]",
      "text/plain": [
       "<Figure size 432x288 with 1 Axes>"
      ]
     },
     "metadata": {
      "needs_background": "light"
     },
     "output_type": "display_data"
    }
   ],
   "source": [
    "# Distribution of ef column\n",
    "sns.histplot(df, x=\"log_ef\")\n",
    "plt.title(\"Distribution of ef column\")\n",
    "plt.show()"
   ]
  },
  {
   "cell_type": "code",
   "execution_count": 23,
   "id": "eecadf9b",
   "metadata": {},
   "outputs": [
    {
     "data": {
      "image/png": "[encoded data removed]",
      "text/plain": [
       "<Figure size 432x288 with 1 Axes>"
      ]
     },
     "metadata": {
      "needs_background": "light"
     },
     "output_type": "display_data"
    }
   ],
   "source": [
    "# Relationship between model_year and ef\n",
    "sns.scatterplot(data=df, x=\"model_year\", y=\"ef\")\n",
    "plt.title(\"Relationship between model_year and ef\")\n",
    "plt.show()"
   ]
  },
  {
   "cell_type": "code",
   "execution_count": 13,
   "id": "edb1ef47",
   "metadata": {},
   "outputs": [
    {
     "data": {
      "image/png": "[encoded data removed]",
      "text/plain": [
       "<Figure size 1296x360 with 1 Axes>"
      ]
     },
     "metadata": {
      "needs_background": "light"
     },
     "output_type": "display_data"
    }
   ],
   "source": [
    "# Group the data by reference year and calculate the average emissions for each year\n",
    "reference_years = df.groupby('model_year').mean()['log_ef']\n",
    "plt.figure(figsize = (18,5))\n",
    "# Plot a line chart of the reference year trend\n",
    "plt.plot(reference_years.index, reference_years.values, '-o')\n",
    "plt.xlabel('Model Year')\n",
    "plt.ylabel('Average Emissions')\n",
    "plt.title('Avergae Emission by Gases')\n",
    "plt.show()"
   ]
  }
 ],
 "metadata": {
  "kernelspec": {
   "display_name": "Python 3 (ipykernel)",
   "language": "python",
   "name": "python3"
  },
  "language_info": {
   "codemirror_mode": {
    "name": "ipython",
    "version": 3
   },
   "file_extension": ".py",
   "mimetype": "text/x-python",
   "name": "python",
   "nbconvert_exporter": "python",
   "pygments_lexer": "ipython3",
   "version": "3.7.13"
  }
 },
 "nbformat": 4,
 "nbformat_minor": 5
}
